{
  "nbformat": 4,
  "nbformat_minor": 0,
  "metadata": {
    "colab": {
      "name": "cartoonization.ipynb",
      "provenance": []
    },
    "kernelspec": {
      "name": "python3",
      "display_name": "Python 3"
    },
    "language_info": {
      "name": "python"
    }
  },
  "cells": [
    {
      "cell_type": "code",
      "metadata": {
        "id": "zp4yiZBzvicj"
      },
      "source": [
        "from google.colab import drive\n",
        "drive.mount('/content/gdrive')"
      ],
      "execution_count": null,
      "outputs": []
    },
    {
      "cell_type": "code",
      "metadata": {
        "id": "Be8XZ4W6vn_b"
      },
      "source": [
        "PATH_OF_DATA= '/content/gdrive/\"My Drive\"/foreground'\n",
        "!ls {PATH_OF_DATA}"
      ],
      "execution_count": null,
      "outputs": []
    },
    {
      "cell_type": "code",
      "metadata": {
        "id": "wnwK6AiVv-RG"
      },
      "source": [
        "import os\n",
        "os.listdir('/content/gdrive/My Drive/foreground')"
      ],
      "execution_count": null,
      "outputs": []
    },
    {
      "cell_type": "code",
      "metadata": {
        "id": "GV0Vv4x8xv-z"
      },
      "source": [
        "import shutil\n",
        "catoonized_images = 'cartooonized_images'\n",
        "if os.path.exists(catoonized_images):\n",
        "  shutil.rmtree(catoonized_images)\n",
        "os.makedirs(catoonized_images)"
      ],
      "execution_count": null,
      "outputs": []
    },
    {
      "cell_type": "code",
      "metadata": {
        "id": "HaXWT9I2xwBO"
      },
      "source": [
        "catoonized_images = 'test_images'\n",
        "if os.path.exists(catoonized_images):\n",
        "  shutil.rmtree(catoonized_images)\n",
        "os.makedirs(catoonized_images)"
      ],
      "execution_count": null,
      "outputs": []
    },
    {
      "cell_type": "code",
      "metadata": {
        "id": "rXr3hcjFxwDY"
      },
      "source": [
        "catoonized_images = 'saved_models'\n",
        "if os.path.exists(catoonized_images):\n",
        "  shutil.rmtree(catoonized_images)\n",
        "os.makedirs(catoonized_images)"
      ],
      "execution_count": null,
      "outputs": []
    },
    {
      "cell_type": "code",
      "metadata": {
        "id": "kkyzx9Zdx9lC"
      },
      "source": [
        "import os\n",
        "os.listdir()"
      ],
      "execution_count": null,
      "outputs": []
    },
    {
      "cell_type": "code",
      "metadata": {
        "id": "jongq0EQxwEH"
      },
      "source": [
        "from google.colab import files\n",
        "\n",
        "uploaded = files.upload()\n",
        "\n",
        "for fn in uploaded.keys():\n",
        "  print('User uploaded file \"{name}\" with length {length} bytes'.format(\n",
        "      name=fn, length=len(uploaded[fn])))"
      ],
      "execution_count": null,
      "outputs": []
    },
    {
      "cell_type": "code",
      "metadata": {
        "id": "cCF0CBhTxwGE"
      },
      "source": [
        "os.listdir()"
      ],
      "execution_count": null,
      "outputs": []
    },
    {
      "cell_type": "code",
      "metadata": {
        "id": "iuo7YkFIxwIW"
      },
      "source": [
        "os.chdir('test_images/')"
      ],
      "execution_count": null,
      "outputs": []
    },
    {
      "cell_type": "code",
      "metadata": {
        "id": "oYWDSP_Myfp1"
      },
      "source": [
        "import shutil\n",
        "import os\n",
        "lists=os.listdir('/content/gdrive/My Drive/foreground')\n",
        "for lis in lists:\n",
        "  shutil.move(f'/content/gdrive/My Drive/foreground/{lis}','/content/test_images')"
      ],
      "execution_count": null,
      "outputs": []
    },
    {
      "cell_type": "code",
      "metadata": {
        "id": "8c8VI9RDyfrn"
      },
      "source": [
        "os.chdir('../')"
      ],
      "execution_count": null,
      "outputs": []
    },
    {
      "cell_type": "code",
      "metadata": {
        "id": "T_AY5UzwxwKm"
      },
      "source": [
        "os.chdir('saved_models/')"
      ],
      "execution_count": null,
      "outputs": []
    },
    {
      "cell_type": "code",
      "metadata": {
        "id": "l4aAv1LjzG2E"
      },
      "source": [
        "from google.colab import files\n",
        "\n",
        "uploaded = files.upload()\n",
        "\n",
        "for fn in uploaded.keys():\n",
        "  print('User uploaded file \"{name}\" with length {length} bytes'.format(\n",
        "      name=fn, length=len(uploaded[fn])))"
      ],
      "execution_count": null,
      "outputs": []
    },
    {
      "cell_type": "code",
      "metadata": {
        "id": "gx0rw_RlzHAw"
      },
      "source": [
        "os.chdir('../')"
      ],
      "execution_count": null,
      "outputs": []
    },
    {
      "cell_type": "code",
      "metadata": {
        "colab": {
          "base_uri": "https://localhost:8080/",
          "height": 35
        },
        "id": "4FQXyrCjzpWp",
        "outputId": "6cb9ce60-a870-4148-b6bb-5089eb7bded6"
      },
      "source": [
        "os.getcwd()"
      ],
      "execution_count": null,
      "outputs": [
        {
          "output_type": "execute_result",
          "data": {
            "application/vnd.google.colaboratory.intrinsic+json": {
              "type": "string"
            },
            "text/plain": [
              "'/content'"
            ]
          },
          "metadata": {
            "tags": []
          },
          "execution_count": 22
        }
      ]
    },
    {
      "cell_type": "code",
      "metadata": {
        "id": "mIsNwAJVwM5q"
      },
      "source": [
        "pip install network"
      ],
      "execution_count": null,
      "outputs": []
    },
    {
      "cell_type": "code",
      "metadata": {
        "id": "Li3hHklFwS0z"
      },
      "source": [
        "pip install tensorflow==1.13.0rc1"
      ],
      "execution_count": null,
      "outputs": []
    },
    {
      "cell_type": "code",
      "metadata": {
        "id": "mvl24LRiPC1-"
      },
      "source": [
        "import os\n",
        "import cv2\n",
        "import numpy as np\n",
        "import tensorflow as tf \n",
        "import network\n",
        "import guided_filter\n",
        "from tqdm import tqdm"
      ],
      "execution_count": null,
      "outputs": []
    },
    {
      "cell_type": "code",
      "metadata": {
        "id": "Hsz2sc8VRZTF"
      },
      "source": [
        "def resize_crop(image):\n",
        "    h, w, c = np.shape(image)\n",
        "    if min(h, w) > 720:\n",
        "        if h > w:\n",
        "            h, w = int(720*h/w), 720\n",
        "        else:\n",
        "            h, w = 720, int(720*w/h)\n",
        "    image = cv2.resize(image, (w, h),\n",
        "                       interpolation=cv2.INTER_AREA)\n",
        "    h, w = (h//8)*8, (w//8)*8\n",
        "    image = image[:h, :w, :]\n",
        "    return image\n",
        "    "
      ],
      "execution_count": null,
      "outputs": []
    },
    {
      "cell_type": "code",
      "metadata": {
        "id": "0oMhVAuDRcos"
      },
      "source": [
        "def cartoonize(load_folder, save_folder, model_path):\n",
        "    input_photo = tf.placeholder(tf.float32, [1, None, None, 3])\n",
        "    network_out = network.unet_generator(input_photo)\n",
        "    final_out = guided_filter.guided_filter(input_photo, network_out, r=1, eps=5e-3)\n",
        "\n",
        "    all_vars = tf.trainable_variables()\n",
        "    gene_vars = [var for var in all_vars if 'generator' in var.name]\n",
        "    saver = tf.train.Saver(var_list=gene_vars)\n",
        "  \n",
        "    config = tf.ConfigProto()\n",
        "    config.gpu_options.allow_growth = True\n",
        "    sess = tf.Session(config=config)\n",
        "\n",
        "    sess.run(tf.global_variables_initializer())\n",
        "    saver.restore(sess, tf.train.latest_checkpoint(model_path))\n",
        "    name_list = os.listdir(load_folder)\n",
        "    for name in tqdm(name_list):\n",
        "        try:\n",
        "            load_path = os.path.join(load_folder, name)\n",
        "            save_path = os.path.join(save_folder, name)\n",
        "            image = cv2.imread(load_path)\n",
        "            image = resize_crop(image)\n",
        "            batch_image = image.astype(np.float32)/127.5 - 1\n",
        "            batch_image = np.expand_dims(batch_image, axis=0)\n",
        "            output = sess.run(final_out, feed_dict={input_photo: batch_image})\n",
        "            output = (np.squeeze(output)+1)*127.5\n",
        "            output = np.clip(output, 0, 255).astype(np.uint8)\n",
        "            cv2.imwrite(save_path, output)\n",
        "        except:\n",
        "            print('cartoonize {} failed'.format(load_path))"
      ],
      "execution_count": null,
      "outputs": []
    },
    {
      "cell_type": "code",
      "metadata": {
        "id": "C8dJdC8TRgdH"
      },
      "source": [
        "if __name__ == '__main__':\n",
        "    model_path = 'saved_models'\n",
        "    load_folder = 'test_images'\n",
        "    save_folder = 'cartooonized_images'\n",
        "    if not os.path.exists(save_folder):\n",
        "        os.mkdir(save_folder)\n",
        "    cartoonize(load_folder, save_folder, model_path)"
      ],
      "execution_count": null,
      "outputs": []
    },
    {
      "cell_type": "code",
      "metadata": {
        "id": "r68q7hdfS0SQ"
      },
      "source": [
        "os.listdir()"
      ],
      "execution_count": null,
      "outputs": []
    },
    {
      "cell_type": "code",
      "metadata": {
        "id": "hDRn9AoM4VNq"
      },
      "source": [
        "os.chdir('cartooonized_images/')"
      ],
      "execution_count": null,
      "outputs": []
    },
    {
      "cell_type": "code",
      "metadata": {
        "id": "4ROOgk5j4a4B"
      },
      "source": [
        "os.listdir()"
      ],
      "execution_count": null,
      "outputs": []
    },
    {
      "cell_type": "code",
      "metadata": {
        "id": "mLesgtTR5Ai-"
      },
      "source": [
        "os.chdir('../')"
      ],
      "execution_count": null,
      "outputs": []
    },
    {
      "cell_type": "code",
      "metadata": {
        "id": "Gbl36-c25GaJ"
      },
      "source": [
        "os.listdir()"
      ],
      "execution_count": null,
      "outputs": []
    },
    {
      "cell_type": "code",
      "metadata": {
        "id": "cmQRcrSI4sI3"
      },
      "source": [
        "if os.path.exists(\"/content/drive/My Drive/cartooonized_images\"):\n",
        "  shutil.rmtree(\"/content/drive/My Drive/cartooonized_images\")\n",
        "!cp  -r 'cartooonized_images/' \"gdrive/My Drive/\""
      ],
      "execution_count": null,
      "outputs": []
    },
    {
      "cell_type": "code",
      "metadata": {
        "id": "xXt1SqJe4_z-"
      },
      "source": [
        ""
      ],
      "execution_count": null,
      "outputs": []
    }
  ]
}