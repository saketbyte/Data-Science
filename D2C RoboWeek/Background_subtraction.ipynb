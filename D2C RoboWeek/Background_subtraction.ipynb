{
  "nbformat": 4,
  "nbformat_minor": 0,
  "metadata": {
    "accelerator": "GPU",
    "colab": {
      "name": "Background_subtraction.ipynb",
      "provenance": [],
      "collapsed_sections": []
    },
    "kernelspec": {
      "display_name": "Python 3",
      "name": "python3"
    }
  },
  "cells": [
    {
      "cell_type": "code",
      "metadata": {
        "id": "gEwiokUgkSDO"
      },
      "source": [
        "import os\n",
        "\n",
        "%cd /content\n",
        "if not os.path.exists('MODNet'):\n",
        "  !git clone https://github.com/ZHKKKe/MODNet\n",
        "%cd MODNet/\n",
        "pretrained_ckpt = 'pretrained/modnet_photographic_portrait_matting.ckpt'\n",
        "if not os.path.exists(pretrained_ckpt):\n",
        "  !gdown --id 1mcr7ALciuAsHCpLnrtG_eop5-EYhbCmz \\\n",
        "          -O pretrained/modnet_photographic_portrait_matting.ckpt\n"
      ],
      "execution_count": null,
      "outputs": []
    },
    {
      "cell_type": "code",
      "metadata": {
        "id": "1UxMLl-Gsi66"
      },
      "source": [
        "from google.colab import drive\n",
        "drive.mount('/content/drive')"
      ],
      "execution_count": null,
      "outputs": []
    },
    {
      "cell_type": "code",
      "metadata": {
        "id": "c_3jhVwQu3-P"
      },
      "source": [
        "import shutil\n",
        "from google.colab import files\n",
        "\n",
        "input_folder = 'demo/image_matting/colab/input'\n",
        "if os.path.exists(input_folder):\n",
        "  shutil.rmtree(input_folder)\n",
        "os.makedirs(input_folder)\n",
        "\n",
        "output_folder = 'demo/image_matting/colab/output'\n",
        "if os.path.exists(output_folder):\n",
        "  shutil.rmtree(output_folder)\n",
        "os.makedirs(output_folder)\n",
        "\n",
        "foreground_folder = 'demo/image_matting/colab/foreground'\n",
        "if os.path.exists(foreground_folder):\n",
        "  shutil.rmtree(foreground_folder)\n",
        "os.makedirs(foreground_folder)\n",
        "\n",
        "# upload images (PNG or JPG)\n",
        "image_names = list(files.upload().keys())\n",
        "for image_name in image_names:\n",
        "  shutil.move(image_name, os.path.join(input_folder, image_name))\n"
      ],
      "execution_count": null,
      "outputs": []
    },
    {
      "cell_type": "code",
      "metadata": {
        "id": "fi1jtFug-Nvh"
      },
      "source": [
        "!python -m demo.image_matting.colab.inference \\\n",
        "        --input-path demo/image_matting/colab/input \\\n",
        "        --output-path demo/image_matting/colab/output \\\n",
        "        --ckpt-path ./pretrained/modnet_photographic_portrait_matting.ckpt\n"
      ],
      "execution_count": null,
      "outputs": []
    },
    {
      "cell_type": "code",
      "metadata": {
        "id": "JOmYOHKfgQ5Y"
      },
      "source": [
        "import numpy as np\n",
        "from PIL import Image\n",
        "import cv2\n",
        "import numpy as np\n",
        "from google.colab.patches import cv2_imshow\n",
        "from skimage import io\n",
        "def combined_display(image, matte):\n",
        "  w, h = image.width, image.height\n",
        "  rw, rh = 800, int(h * 800 / (3 * w))\n",
        "  image = np.asarray(image)\n",
        "  if len(image.shape) == 2:\n",
        "    image = image[:, :, None]\n",
        "  if image.shape[2] == 1:\n",
        "    image = np.repeat(image, 3, axis=2)\n",
        "  elif image.shape[2] == 4:\n",
        "    image = image[:, :, 0:3]\n",
        "  matte = np.repeat(np.asarray(matte)[:, :, None], 3, axis=2) / 255\n",
        "  foreground = image * matte + np.full(image.shape, 255) * (1 - matte)\n",
        "  \n",
        "  combined = np.concatenate((image, foreground, matte * 255), axis=1)\n",
        "  foreground = Image.fromarray(np.uint8(foreground)).resize((w, h))\n",
        "  return foreground\n",
        "\n",
        "from google.colab import files as FILE\n",
        "def notcombined_display(image, matte):\n",
        "\n",
        "  w, h = image.width, image.height\n",
        "  rw, rh = 800, int(h * 800 / (3 * w))\n",
        "\n",
        "  image = np.asarray(image)\n",
        "  if len(image.shape) == 2:\n",
        "    image = image[:, :, None]\n",
        "  if image.shape[2] == 1:\n",
        "    image = np.repeat(image, 3, axis=2)\n",
        "  elif image.shape[2] == 4:\n",
        "    image = image[:, :, 0:3]\n",
        "  matte = np.repeat(np.asarray(matte)[:, :, None], 3, axis=2) / 255\n",
        "  foreground = image * matte + np.full(image.shape, 255) * (1 - matte)\n",
        "  \n",
        "  combined = np.concatenate((image, foreground, matte * 255), axis=1)\n",
        "  combined = Image.fromarray(np.uint8(combined)).resize((rw, rh))\n",
        "  return image,matte,foreground\n",
        "  \n",
        "image_names = os.listdir(input_folder)\n",
        "for image_name in image_names:\n",
        "  matte_name = image_name.split('.')[0] + '.png'\n",
        "  image = Image.open(os.path.join(input_folder, image_name))\n",
        "  matte = Image.open(os.path.join(output_folder, matte_name))\n",
        "  matte = np.repeat(np.asarray(matte)[:, :, None], 3, axis=2) / 255\n",
        "  bitnd = image*matte+np.full(np.asarray(image).shape, 255) * (1 - matte)\n",
        "  print(bitnd.shape)\n",
        "  bitnd = Image.fromarray(np.uint8(bitnd))\n",
        "  bitnd.save(f'demo/image_matting/colab/foreground/{image_name}')\n",
        "  print(image_name, '\\n')\n",
        "\n"
      ],
      "execution_count": null,
      "outputs": []
    },
    {
      "cell_type": "code",
      "metadata": {
        "id": "XF5ANfbSs_oy"
      },
      "source": [
        "os.getcwd()"
      ],
      "execution_count": null,
      "outputs": []
    },
    {
      "cell_type": "code",
      "metadata": {
        "id": "gArg18hRtOWy"
      },
      "source": [
        "os.listdir()"
      ],
      "execution_count": null,
      "outputs": []
    },
    {
      "cell_type": "code",
      "metadata": {
        "id": "btV8YeHhtOZD"
      },
      "source": [
        "os.chdir('demo/image_matting/colab/')"
      ],
      "execution_count": null,
      "outputs": []
    },
    {
      "cell_type": "code",
      "metadata": {
        "id": "rfUOeLJntOdX"
      },
      "source": [
        "os.listdir()"
      ],
      "execution_count": null,
      "outputs": []
    },
    {
      "cell_type": "code",
      "metadata": {
        "id": "6sdgZkmDtOfE"
      },
      "source": [
        "if os.path.exists(\"/content/drive/My Drive/foreground\"):\n",
        "  shutil.rmtree(\"/content/drive/My Drive/foreground\")\n",
        "!cp  -r 'foreground/' \"/content/drive/My Drive/\""
      ],
      "execution_count": null,
      "outputs": []
    },
    {
      "cell_type": "code",
      "metadata": {
        "id": "imrEp0B4Xfv9"
      },
      "source": [
        "zip_filename = 'matte.zip'\n",
        "if os.path.exists(zip_filename):\n",
        "  os.remove(zip_filename)\n",
        "\n",
        "os.system(f\"zip -r -j {zip_filename} {foreground_folder}/*\")\n",
        "files.download(zip_filename)"
      ],
      "execution_count": null,
      "outputs": []
    },
    {
      "cell_type": "code",
      "metadata": {
        "id": "cQ6ujljSY2ZP"
      },
      "source": [
        "zip= 'matte_trimap.zip'\n",
        "if os.path.exists(zip):\n",
        "  os.remove(zip)\n",
        "\n",
        "os.system(f\"zip -r -j {zip} demo/image_matting/colab/output/*\")\n",
        "files.download(zip)"
      ],
      "execution_count": null,
      "outputs": []
    }
  ]
}