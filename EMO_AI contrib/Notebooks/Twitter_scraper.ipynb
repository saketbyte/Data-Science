{
  "nbformat": 4,
  "nbformat_minor": 0,
  "metadata": {
    "colab": {
      "name": "Twitter scraper.ipynb",
      "provenance": [],
      "collapsed_sections": []
    },
    "kernelspec": {
      "name": "python3",
      "display_name": "Python 3"
    }
  },
  "cells": [
    {
      "cell_type": "code",
      "metadata": {
        "colab": {
          "base_uri": "https://localhost:8080/"
        },
        "id": "######",
        "outputId": "######"
      },
      "source": [
        "!pip install contractions"
      ],
      "execution_count": null,
      "outputs": [
        {
          "output_type": "stream",
          "text": [
            "Requirement already satisfied: contractions in /usr/local/lib/python3.6/dist-packages (0.0.45)\n",
            "Requirement already satisfied: textsearch in /usr/local/lib/python3.6/dist-packages (from contractions) (0.0.17)\n",
            "Requirement already satisfied: Unidecode in /usr/local/lib/python3.6/dist-packages (from textsearch->contractions) (1.1.2)\n",
            "Requirement already satisfied: pyahocorasick in /usr/local/lib/python3.6/dist-packages (from textsearch->contractions) (1.4.0)\n"
          ],
          "name": "stdout"
        }
      ]
    },
    {
      "cell_type": "code",
      "metadata": {
        "id": "-u9v7y8TP4A5"
      },
      "source": [
        "import tweepy\r\n",
        "import json\r\n",
        "import pandas as pd\r\n",
        "from wordcloud import WordCloud, STOPWORDS, ImageColorGenerator\r\n",
        "import contractions\r\n",
        "import matplotlib as mpl\r\n",
        "import csv\r\n",
        "import matplotlib.pyplot as plt"
      ],
      "execution_count": null,
      "outputs": []
    },
    {
      "cell_type": "code",
      "metadata": {
        "id": "jCt7i9oWQb81"
      },
      "source": [
        "#Authentication\r\n",
        "consumer_key = '####",
        "consumer_secret = '####",
        "access_key = '#####",
        "access_secret = '#####",
        "auth = tweepy.OAuthHandler(consumer_key, consumer_secret) #Interacting with twitter's API\r\n",
        "auth.set_access_token(access_key, access_secret)\r\n",
        "api = tweepy.API(auth, wait_on_rate_limit=True) #creating the API object"
      ],
      "execution_count": null,
      "outputs": []
    },
    {
      "cell_type": "code",
      "metadata": {
        "id": "g4LGk2cgbJoy"
      },
      "source": [
        ""
      ],
      "execution_count": null,
      "outputs": []
    },
    {
      "cell_type": "code",
      "metadata": {
        "id": "okTWJLRqQeIo"
      },
      "source": [
        "def extract_tweets(word, api):\r\n",
        "    #Extracting Tweets\r\n",
        "    results = []\r\n",
        "    for tweet in tweepy.Cursor(api.search, q = word, lang = \"en\").items(1000): \r\n",
        "        results.append(tweet)\r\n",
        "    \r\n",
        "    #Store tweets data in a dataframe\r\n",
        "    def tweets_df(results):\r\n",
        "        id_list = [tweet.id for tweet  in results]\r\n",
        "        data_set = pd.DataFrame(id_list, columns = [\"id\"])\r\n",
        "    \r\n",
        "        data_set[\"text\"] = [tweet.text for tweet in results]\r\n",
        "        data_set[\"Hashtags\"] = [tweet.entities.get('hashtags') for tweet in results]\r\n",
        "        return data_set\r\n",
        "    data_set = tweets_df(results)\r\n",
        "    \r\n",
        "    sentences = []\r\n",
        "    for index, row in data_set.iterrows():\r\n",
        "        text = row['text']\r\n",
        "        hashtags = row['Hashtags']\r\n",
        "        tags = ['RT', 'rt', '#']\r\n",
        "        for word in text.split():\r\n",
        "            if '@' in word:\r\n",
        "                tags.append(word)\r\n",
        "            if 'http' in word:\r\n",
        "                tags.append(word)\r\n",
        "        for i in tags:\r\n",
        "            text = text.replace(i, '')\r\n",
        "        sentences.append(text)\r\n",
        "    return(sentences)"
      ],
      "execution_count": null,
      "outputs": []
    },
    {
      "cell_type": "code",
      "metadata": {
        "id": "24Mc2nFrRMUo"
      },
      "source": [
        "sentences = []\r\n",
        "queries = ['ek baat batao','oh acha I got it']\r\n",
        "for q in queries:\r\n",
        "    sentences = sentences + extract_tweets(q, api)"
      ],
      "execution_count": null,
      "outputs": []
    },
    {
      "cell_type": "code",
      "metadata": {
        "id": "4EccSICGZUFR"
      },
      "source": [
        "sentences = list(set(sentences))"
      ],
      "execution_count": null,
      "outputs": []
    },
    {
      "cell_type": "code",
      "metadata": {
        "colab": {
          "base_uri": "https://localhost:8080/"
        },
        "id": "Qdx01LpmMWx6",
        "outputId": "965600ed-ac8a-49ee-a059-be5406aea982"
      },
      "source": [
        "len(sentences)"
      ],
      "execution_count": null,
      "outputs": [
        {
          "output_type": "execute_result",
          "data": {
            "text/plain": [
              "54"
            ]
          },
          "metadata": {
            "tags": []
          },
          "execution_count": 59
        }
      ]
    },
    {
      "cell_type": "code",
      "metadata": {
        "id": "VZWoyMDbatFW",
        "colab": {
          "base_uri": "https://localhost:8080/"
        },
        "outputId": "9a028691-54d5-4da8-9c3b-ba83e2a9abd2"
      },
      "source": [
        "sentences"
      ],
      "execution_count": null,
      "outputs": [
        {
          "output_type": "execute_result",
          "data": {
            "text/plain": [
              "['Ek baat batao. What is next word your keyboard suggest when you type attention ? (✷‿✷)\\n\\nSwag of Sid Shukla in 2020\\nSidhah Shukla',\n",
              " 'Asim fans posted SidhahShukla is zero without ShehnaazGill and shehnaazians are suppoing them. May be HK fan… ',\n",
              " ' Ek baat batao tumne username change ki hai..\\nMain confusion me hu...\\nPlease tell me...',\n",
              " '  🇺🇸 : \\nOk\\nGood\\nWhat?\\nOh i see\\nReally?\\nHuh\\nGot it?\\n\\n🇵🇰:\\nAcha\\nAcha\\nAcha?\\nAchaaaaaaa 🌝\\nAcha? 😯\\nAcha 🙂\\nAchaa?',\n",
              " '   Acha ek baat batao\\nI dont knw abt ur work otherwise would hv yalke dabt that o… ',\n",
              " '“Do we need to so anything” walo ek baat batao \\n\\nso hua kya ?',\n",
              " 'Ek baat sach batao toh  mein jo bhi hone wala hote hain mujhe pehle hi pata chal jaata hain because itna s… ',\n",
              " '  After All your paragraph messages \\n\\nCrush(replied):- acha ek baat batao?\\n\\nYou:- ',\n",
              " '  Exactly chamra mam .. but people sta b-heading n attacking .. remember CharlieHebdo KamleshTiwari and many more .. aapka…',\n",
              " \"  Ek baat batao, i know these stand up comedians are biggest scums,propagandists,a**holes yet don't feel like encouraging…\",\n",
              " ' sir ji ek baat batao ab market upar jayega ya niche aaj? \\nif in 1-2 hour upar jayega i will wait for… ',\n",
              " '  Ek baat batao. What is next word your keyboard suggest when you type attention ? (✷‿✷)\\n\\nSwag of Sid Shukla in 2020\\nSidh…',\n",
              " '  Ek baat sach batao toh  mein jo bhi hone wala hote hain mujhe pehle hi pata chal jaata hain because itna scrip…',\n",
              " \" But ek baat batao na, we love someone that doesn't mean we should suppo everything they do 😕. Kabh… \",\n",
              " '  Ek baat batao kya likhu content mein for this trend\\n\\nRADHE IN CINEMAS THIS YEAR',\n",
              " '  Aur BB ek baat batao why has Ms Sonali Phogat been given the privilege to enter the cont… ',\n",
              " ' oh acha i got it',\n",
              " \"  It's easy to hold back if you have one muv ready with you to release, but Akki has to… \",\n",
              " \"Ye 'Sex' word sunkar 'chichi' aur ' Disgusting' bolne walo ek baat batao,\\nTum log kya photosynthesis process se hue… \",\n",
              " ' @sidhah_shukla Hello Tata Sky wale bhaiya! Ek baat batao, kya Sidhah ne tata sky lia hua h? If yes, Ze… ',\n",
              " '  Ek baat batao many accounts that were before tweeting in the trend are now no where to be seen. What is happening? \\nSTU…',\n",
              " '  mujhe ap log ek baat batao, agar iss hafte Rubina and RKV highest voted contestants the toh f… ',\n",
              " '  Phele ek baat batao what does that finger mean? \\n\\nBOSS LADY RUBINA',\n",
              " 'Exactly chamra mam .. but people sta b-heading n attacking .. remember CharlieHebdo KamleshTiwari and many more… ',\n",
              " '   Bhai ek baat batao kisan ko gift lene keliye pressurize kyon kara ja ra… ',\n",
              " '  Ek baat batao, Hinduism is a historic religion with a great significance towards evolution… ',\n",
              " \"  Ok whatever, it's a fake pic \\nEk baat batao.\\nWhy do you think there are army Personnel deployed in Kashmir.?\",\n",
              " \"🇱🇷 : Bro you can share anything i don't tell anyone\\n🇮🇳: Areee vo haina  ek chutiya uss ki baat batao ..\",\n",
              " ' @PopatTih    Ek baat batao, slayy point ne bhi copy kiye hai kuchh… ',\n",
              " '  ek baat batao... 6 yr me kitna job diya govt job delhi me..',\n",
              " 'Ek baat sach sach batao\\n\\nYe bigg boss walay itne sidhe hen k Perfect Voting Status Detey hen wo bhi her min?\\n\\nRKV W… ',\n",
              " ' Ek baat batao...media wale opposition pay members se baat kyu ke hai?\\nAsk the govt directly if they have d… ',\n",
              " '    Ek Baat batao Aunty. Aicle 41&amp;91 of Pakistani constitution disallo… ',\n",
              " 'I liked Animal teaser..But ek baat batao yaar Anil kapoor Bobby Deol race 3 me the toh sabko unse issue tha .. And… ',\n",
              " ' Ek baat batao. Why she is leaning in such a awkwardly way?',\n",
              " 'Ek baat batao many accounts that were before tweeting in the trend are now no where to be seen. What is happening? \\nSTURDY JASMIN',\n",
              " 'Ek baat batao kya likhu content mein for this trend\\n\\nRADHE IN CINEMAS THIS YEAR',\n",
              " 'Acha mere ko ek baat batao \\nYeh jo aap log tweets kar rehe ho kya aapke drafts ready hai \\nAur kiske kise kitne kitn… ',\n",
              " ' Bhai ek baat batao, why do Virat Kohli fans hate Rohit Sharma and why do Rohit Sharma fans hate Kohli? F… ',\n",
              " '  Ek baat batao \\nWhat is the difference between A and UA? 🤔\\nPta hai kisiko? \\nSidhahShukla \\nSidNaaz ',\n",
              " '  Ek baat sach sach batao\\n\\nYe bigg boss walay itne sidhe hen k Perfect Voting Status Detey hen wo bhi her min?\\n\\nRKV WILL RULE 2…',\n",
              " \"Ek baat batao, i know these stand up comedians are biggest scums,propagandists,a**holes yet don't feel like encoura… \",\n",
              " '  Acha ek baat batao.. RS bole ya na bole kya farak pdega??? \\nEven if he would have made bridges of praises for Rhea or S…',\n",
              " 'Ek baat batao \\nWhat is the difference between A and UA? 🤔\\nPta hai kisiko? \\nSidhahShukla \\nSidNaaz ',\n",
              " ' Are but businessman se kya lena dena iska.\\n\\nWaise i am also a businessman but i dnt think so isse v… ',\n",
              " '    Phele ek baat batao what does that finger mean? \\n\\nBOSS LADY RUBINA',\n",
              " '   Just Ek baat batao yeh huchu kuchu simple musical tone yeh god kaise hogye n ho… ',\n",
              " 'After All your paragraph messages \\n\\nCrush(replied):- acha ek baat batao?\\n\\nYou:- ',\n",
              " '  I liked Animal teaser..But ek baat batao yaar Anil kapoor Bobby Deol race 3 me the toh sabko unse issue tha .. And now…',\n",
              " ' accha ek baat batao, When all those fake accounts came and staed calling my a plagiarised, aapne bola… ',\n",
              " '   Ek baat to batao why so biased  \\nRahuIVaidya',\n",
              " '       ek baat batao kitne… ',\n",
              " '🇺🇸 : \\nOk\\nGood\\nWhat?\\nOh i see\\nReally?\\nHuh\\nGot it?\\n\\n🇵🇰:\\nAcha\\nAcha\\nAcha?\\nAchaaaaaaa 🌝\\nAcha? 😯\\nAcha 🙂\\nAchaa?',\n",
              " 'Ek baat batao. Jab bhi tum kisi musibat mein hoti ho toh tumhe kaun bachata hai???\\n\\n*Stas to point at Rudra and t… ']"
            ]
          },
          "metadata": {
            "tags": []
          },
          "execution_count": 60
        }
      ]
    },
    {
      "cell_type": "markdown",
      "metadata": {
        "id": "CkpdIy9oZeii"
      },
      "source": [
        "DONE:['grateful','thankful','opportunity','proud','celebrate','#festival','smiling','#birthday','congratulations'] \r\n",
        "['Neffex','good life', 'blessings', 'bright future','significant improvement','healthy','yayy','happy new year']\r\n",
        "['yummy','loved it','how beautiful','lucky','Always there','best friend forever']\r\n",
        "['selfie','art','nature,','#fitness','traveller','beach',''cute baby','wedding','iphone']'selfie','art','nature,','#fitness','traveller','cute baby','wedding','winner mentality'janamdin','dhanyawaad','badhai ho','swasth rahiye','shubhkaamnayein'\r\n",
        "\r\n",
        "khushi','maza','mast hai','jeet ki khushi','bhukkarh','pranam gurudev',\r\n",
        "'hanstey hanstey','kabhi kabhi','purani dosti','bhai hai tu apna','kya kar rahe ho',\r\n",
        ",'Mera sapna poora ho gaya','Kahin jane ka plan','ham jeetengey','kya tumhe malum hai',\r\n",
        "'paneer khilao'\r\n",
        "\r\n",
        "samajh nahi a raha',bewafa nikle, aaj to mood off ho gaya,usne dhoka dia,pareshaan ho gaye, \r\n",
        "Hindi happy:\r\n",
        "[',\r\n",
        "Hindi sad:\r\n",
        "['\r\n",
        "\r\n",
        "Neutral:\r\n",
        "ek baat batao, "
      ]
    },
    {
      "cell_type": "code",
      "metadata": {
        "id": "akv3NTPWhvfP"
      },
      "source": [
        ""
      ],
      "execution_count": null,
      "outputs": []
    },
    {
      "cell_type": "code",
      "metadata": {
        "id": "1kfPwWuFbbk8"
      },
      "source": [
        "import pandas as pd\r\n",
        "import contractions\r\n",
        "import tweepy\r\n",
        "import csv\r\n",
        "import re"
      ],
      "execution_count": null,
      "outputs": []
    },
    {
      "cell_type": "code",
      "metadata": {
        "id": "YAmvbiluRQ_R"
      },
      "source": [
        "def preprocess(sentences):\r\n",
        "    sentences = [i for i in sentences if len(i.split()) > 6]\r\n",
        "\r\n",
        "    for i in range(len(sentences)):\r\n",
        "        sentence = sentences[i]\r\n",
        "\r\n",
        "        # Fixing the short forms of words\r\n",
        "        sentence = contractions.fix(sentence).lower()\r\n",
        "\r\n",
        "        # Cleaning the sentence with regex\r\n",
        "        sentence = re.sub(r'[^\\w\\s]', '', sentence)\r\n",
        "        sentence = re.sub(r'[^\\x00-\\x7f]',r'', sentence)\r\n",
        "\r\n",
        "        # Splitting the sentence and joining again to remove extra white spaces\r\n",
        "        words = sentence.split()\r\n",
        "        sentence = ' '.join(words)\r\n",
        "\r\n",
        "        sentences[i] = sentence\r\n",
        "    return(sentences)"
      ],
      "execution_count": null,
      "outputs": []
    },
    {
      "cell_type": "code",
      "metadata": {
        "id": "pNF52iChR6iZ"
      },
      "source": [
        "sentences = preprocess(sentences)"
      ],
      "execution_count": null,
      "outputs": []
    },
    {
      "cell_type": "code",
      "metadata": {
        "colab": {
          "base_uri": "https://localhost:8080/"
        },
        "id": "-iwApobNjXIs",
        "outputId": "a4095d7c-f736-4e2a-b621-43c0e6a774a3"
      },
      "source": [
        "len(sentences)"
      ],
      "execution_count": null,
      "outputs": [
        {
          "output_type": "execute_result",
          "data": {
            "text/plain": [
              "52"
            ]
          },
          "metadata": {
            "tags": []
          },
          "execution_count": 63
        }
      ]
    },
    {
      "cell_type": "code",
      "metadata": {
        "id": "ltKKI3y8R_W7"
      },
      "source": [
        "adict = {'sentence': sentences}\r\n",
        "df = pd.DataFrame(adict)\r\n",
        "df.to_csv('happy_df_twitter.csv', index = False)"
      ],
      "execution_count": null,
      "outputs": []
    },
    {
      "cell_type": "code",
      "metadata": {
        "id": "i--mYd3sSLGg",
        "colab": {
          "base_uri": "https://localhost:8080/",
          "height": 17
        },
        "outputId": "ac5451b5-4b50-4024-e398-02de95e9145c"
      },
      "source": [
        "from google.colab import files\r\n",
        "files.download('happy_df_twitter.csv')"
      ],
      "execution_count": null,
      "outputs": [
        {
          "output_type": "display_data",
          "data": {
            "application/javascript": [
              "\n",
              "    async function download(id, filename, size) {\n",
              "      if (!google.colab.kernel.accessAllowed) {\n",
              "        return;\n",
              "      }\n",
              "      const div = document.createElement('div');\n",
              "      const label = document.createElement('label');\n",
              "      label.textContent = `Downloading \"${filename}\": `;\n",
              "      div.appendChild(label);\n",
              "      const progress = document.createElement('progress');\n",
              "      progress.max = size;\n",
              "      div.appendChild(progress);\n",
              "      document.body.appendChild(div);\n",
              "\n",
              "      const buffers = [];\n",
              "      let downloaded = 0;\n",
              "\n",
              "      const channel = await google.colab.kernel.comms.open(id);\n",
              "      // Send a message to notify the kernel that we're ready.\n",
              "      channel.send({})\n",
              "\n",
              "      for await (const message of channel.messages) {\n",
              "        // Send a message to notify the kernel that we're ready.\n",
              "        channel.send({})\n",
              "        if (message.buffers) {\n",
              "          for (const buffer of message.buffers) {\n",
              "            buffers.push(buffer);\n",
              "            downloaded += buffer.byteLength;\n",
              "            progress.value = downloaded;\n",
              "          }\n",
              "        }\n",
              "      }\n",
              "      const blob = new Blob(buffers, {type: 'application/binary'});\n",
              "      const a = document.createElement('a');\n",
              "      a.href = window.URL.createObjectURL(blob);\n",
              "      a.download = filename;\n",
              "      div.appendChild(a);\n",
              "      a.click();\n",
              "      div.remove();\n",
              "    }\n",
              "  "
            ],
            "text/plain": [
              "<IPython.core.display.Javascript object>"
            ]
          },
          "metadata": {
            "tags": []
          }
        },
        {
          "output_type": "display_data",
          "data": {
            "application/javascript": [
              "download(\"download_2ed5973c-3d1f-4197-b855-2725634af506\", \"happy_df_twitter.csv\", 4829)"
            ],
            "text/plain": [
              "<IPython.core.display.Javascript object>"
            ]
          },
          "metadata": {
            "tags": []
          }
        }
      ]
    },
    {
      "cell_type": "code",
      "metadata": {
        "id": "WGyhKApDbi6s"
      },
      "source": [
        ""
      ],
      "execution_count": null,
      "outputs": []
    }
  ]
}
